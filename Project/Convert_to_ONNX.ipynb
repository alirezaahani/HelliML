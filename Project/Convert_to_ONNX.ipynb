{
  "nbformat": 4,
  "nbformat_minor": 2,
  "metadata": {
    "colab": {
      "provenance": [],
      "gpuType": "T4"
    },
    "kernelspec": {
      "name": "python3",
      "display_name": "Python 3"
    },
    "language_info": {
      "name": "python"
    },
    "accelerator": "GPU",
    "widgets": {
      "application/vnd.jupyter.widget-state+json": {
        "660eceb8c88545939032d452a259573b": {
          "model_module": "@jupyter-widgets/output",
          "model_name": "OutputModel",
          "model_module_version": "1.0.0",
          "state": {
            "_dom_classes": [],
            "_model_module": "@jupyter-widgets/output",
            "_model_module_version": "1.0.0",
            "_model_name": "OutputModel",
            "_view_count": null,
            "_view_module": "@jupyter-widgets/output",
            "_view_module_version": "1.0.0",
            "_view_name": "OutputView",
            "layout": "IPY_MODEL_6c885a598f624af5bb6b22a138c7ce76",
            "msg_id": "",
            "outputs": [
              {
                "output_type": "display_data",
                "data": {
                  "text/plain": "Applying Weight Compression \u001b[38;2;114;156;31m━━━━━━━━━━━━━━━━━━━━━━━━━━━━━━━━━━━━━━━━━━━━━━━━━━━━━━━━\u001b[0m \u001b[35m100%\u001b[0m \u001b[38;2;0;104;181m40/40\u001b[0m • \u001b[38;2;0;104;181m0:00:00\u001b[0m • \u001b[38;2;0;104;181m0:00:00\u001b[0m\n",
                  "text/html": "<pre style=\"white-space:pre;overflow-x:auto;line-height:normal;font-family:Menlo,'DejaVu Sans Mono',consolas,'Courier New',monospace\">Applying Weight Compression <span style=\"color: #729c1f; text-decoration-color: #729c1f\">━━━━━━━━━━━━━━━━━━━━━━━━━━━━━━━━━━━━━━━━━━━━━━━━━━━━━━━━</span> <span style=\"color: #800080; text-decoration-color: #800080\">100%</span> <span style=\"color: #0068b5; text-decoration-color: #0068b5\">40/40</span> • <span style=\"color: #0068b5; text-decoration-color: #0068b5\">0:00:00</span> • <span style=\"color: #0068b5; text-decoration-color: #0068b5\">0:00:00</span>\n</pre>\n"
                },
                "metadata": {}
              }
            ]
          }
        },
        "6c885a598f624af5bb6b22a138c7ce76": {
          "model_module": "@jupyter-widgets/base",
          "model_name": "LayoutModel",
          "model_module_version": "1.2.0",
          "state": {
            "_model_module": "@jupyter-widgets/base",
            "_model_module_version": "1.2.0",
            "_model_name": "LayoutModel",
            "_view_count": null,
            "_view_module": "@jupyter-widgets/base",
            "_view_module_version": "1.2.0",
            "_view_name": "LayoutView",
            "align_content": null,
            "align_items": null,
            "align_self": null,
            "border": null,
            "bottom": null,
            "display": null,
            "flex": null,
            "flex_flow": null,
            "grid_area": null,
            "grid_auto_columns": null,
            "grid_auto_flow": null,
            "grid_auto_rows": null,
            "grid_column": null,
            "grid_gap": null,
            "grid_row": null,
            "grid_template_areas": null,
            "grid_template_columns": null,
            "grid_template_rows": null,
            "height": null,
            "justify_content": null,
            "justify_items": null,
            "left": null,
            "margin": null,
            "max_height": null,
            "max_width": null,
            "min_height": null,
            "min_width": null,
            "object_fit": null,
            "object_position": null,
            "order": null,
            "overflow": null,
            "overflow_x": null,
            "overflow_y": null,
            "padding": null,
            "right": null,
            "top": null,
            "visibility": null,
            "width": null
          }
        }
      }
    }
  },
  "cells": [
    {
      "cell_type": "code",
      "execution_count": null,
      "source": [
        "!pip install -U huggingface_hub transformers[torch] optimum[openvino,nncf] --quiet\r\n",
        "\r\n",
        "from transformers import AutoTokenizer, pipeline\r\n",
        "import numpy as np\r\n",
        "import matplotlib.pyplot as plt\r\n",
        "import pandas as pd"
      ],
      "outputs": [],
      "metadata": {
        "id": "GpwPO2hsxo0P"
      }
    },
    {
      "cell_type": "code",
      "execution_count": null,
      "source": [
        "from optimum.intel import OVModelForSequenceClassification"
      ],
      "outputs": [],
      "metadata": {
        "id": "0EtvbRRKyR-r",
        "colab": {
          "base_uri": "https://localhost:8080/"
        },
        "outputId": "0c9f697e-9cce-47b2-8321-adb3d238fb7e"
      }
    },
    {
      "cell_type": "code",
      "execution_count": null,
      "source": [
        "ov_model = OVModelForSequenceClassification.from_pretrained('/content/drive/MyDrive/Spam detection/Model', export=True, load_in_8bit=True)\r\n",
        "tokenizer = AutoTokenizer.from_pretrained(\"/content/drive/MyDrive/Spam detection/Model\")"
      ],
      "outputs": [],
      "metadata": {
        "colab": {
          "base_uri": "https://localhost:8080/",
          "height": 241,
          "referenced_widgets": [
            "660eceb8c88545939032d452a259573b",
            "6c885a598f624af5bb6b22a138c7ce76"
          ]
        },
        "id": "guK9k6qRyXPD",
        "outputId": "97367f1c-089a-45c7-a6c7-06c083ab6ef2"
      }
    },
    {
      "cell_type": "code",
      "execution_count": null,
      "source": [
        "!mkdir -p \"/content/drive/MyDrive/Spam detection/OV/Tokenizer\" \"/content/drive/MyDrive/Spam detection/OV/Model\""
      ],
      "outputs": [],
      "metadata": {
        "id": "JhkcCxz-0F47"
      }
    },
    {
      "cell_type": "code",
      "execution_count": null,
      "source": [
        "ov_model.save_pretrained(\"/content/drive/MyDrive/Spam detection/OV/Model\")\r\n",
        "tokenizer.save_pretrained(\"/content/drive/MyDrive/Spam detection/OV/Tokenizer\")"
      ],
      "outputs": [],
      "metadata": {
        "colab": {
          "base_uri": "https://localhost:8080/"
        },
        "id": "15PbVi03zweW",
        "outputId": "d4eb77da-b4a0-423f-ffb8-aa90e702d6c1"
      }
    },
    {
      "cell_type": "code",
      "execution_count": null,
      "source": [
        "pipe = pipeline(\"text-classification\", model=ov_model, tokenizer=tokenizer)"
      ],
      "outputs": [],
      "metadata": {
        "id": "aNVGcl7XMjrQ",
        "colab": {
          "base_uri": "https://localhost:8080/"
        },
        "outputId": "de40e066-f9c7-48bb-cafe-df9e9867b66d"
      }
    }
  ]
}