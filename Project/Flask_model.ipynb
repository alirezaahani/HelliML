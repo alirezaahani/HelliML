{
  "cells": [
    {
      "cell_type": "code",
      "execution_count": null,
      "source": [
        "!curl -s https://ngrok-agent.s3.amazonaws.com/ngrok.asc \\\r\n",
        "  | sudo tee /etc/apt/trusted.gpg.d/ngrok.asc >/dev/null && echo \"deb https://ngrok-agent.s3.amazonaws.com buster main\" \\\r\n",
        "  | sudo tee /etc/apt/sources.list.d/ngrok.list && sudo apt update && sudo apt install ngrok"
      ],
      "outputs": [],
      "metadata": {
        "colab": {
          "base_uri": "https://localhost:8080/"
        },
        "id": "636GT9-w5sw1",
        "outputId": "05b297ee-18f1-40e3-b823-2f89473d47c7"
      }
    },
    {
      "cell_type": "code",
      "execution_count": null,
      "source": [
        "!pip install flask-ngrok --quiet\r\n",
        "!ngrok config add-authtoken <API_KEY>"
      ],
      "outputs": [],
      "metadata": {
        "colab": {
          "base_uri": "https://localhost:8080/"
        },
        "id": "jwIc4GPs3kQa",
        "outputId": "c319023b-805b-4d19-d252-97f8c42d420d"
      }
    },
    {
      "cell_type": "code",
      "execution_count": null,
      "source": [
        "!pip install -U transformers optimum[openvino,nncf] --quiet\r\n",
        "\r\n",
        "from transformers import AutoTokenizer, pipeline\r\n",
        "from optimum.intel import OVModelForSequenceClassification\r\n",
        "\r\n",
        "ov_model = OVModelForSequenceClassification.from_pretrained(\"/content/drive/MyDrive/Spam detection/OV/Model\")\r\n",
        "tokenizer = AutoTokenizer.from_pretrained(\"/content/drive/MyDrive/Spam detection/OV/Tokenizer\")\r\n",
        "classifier = pipeline(\"text-classification\", model=ov_model, tokenizer=tokenizer)"
      ],
      "outputs": [],
      "metadata": {
        "colab": {
          "base_uri": "https://localhost:8080/"
        },
        "id": "lAUAdpGU9we6",
        "outputId": "e6109c9c-1508-4c64-ed67-a6a58a02659b"
      }
    },
    {
      "cell_type": "code",
      "execution_count": null,
      "source": [
        "!pkill -f ngrok"
      ],
      "outputs": [],
      "metadata": {
        "id": "wODpAQjQUTd6"
      }
    },
    {
      "cell_type": "code",
      "execution_count": null,
      "source": [
        "import subprocess\r\n",
        "\r\n",
        "#subprocess.Popen([\"pkill\", \"-f\", \"ngrok\"])\r\n",
        "subprocess.Popen([\"ngrok\", \"http\", \"5000\"])\r\n",
        "\r\n",
        "from flask import Flask\r\n",
        "from flask_ngrok import run_with_ngrok\r\n",
        "from flask import request\r\n",
        "from flask import jsonify\r\n",
        "\r\n",
        "app = Flask(__name__)\r\n",
        "run_with_ngrok(app)\r\n",
        "\r\n",
        "@app.route('/', methods=['POST', 'GET'])\r\n",
        "def index():\r\n",
        "  return \"\"\"\r\n",
        "  <form action='/classify' method=\"get\">\r\n",
        "    <input type=\"button\" value=\"Add TextBox\" onclick=\"add_field();\">\r\n",
        "    <input type=\"button\" value=\"Remove TextBox\" onclick=\"remove_field();\">\r\n",
        "    <ol id=\"field_div\">\r\n",
        "\r\n",
        "    </ol>\r\n",
        "    <button type='submit'>Submit</button>\r\n",
        "  </form>\r\n",
        "\r\n",
        "  <script>\r\n",
        "    const add_field = () => {\r\n",
        "      let total_text = document.getElementsByClassName(\"input_text\").length + 1;\r\n",
        "      let field_div = document.getElementById(\"field_div\");\r\n",
        "      let new_input = \"<li id='input_text_' + total_text><input type='text' class='input_text' name='q'></li>\";\r\n",
        "      field_div.insertAdjacentHTML('beforeend', new_input);\r\n",
        "    }\r\n",
        "    const remove_field = () => {\r\n",
        "      let total_text = document.getElementsByClassName(\"input_text\").length\r\n",
        "      document.getElementById('input_text_' + total_text).remove();\r\n",
        "    }\r\n",
        "  </script>\r\n",
        "  \"\"\"\r\n",
        "\r\n",
        "\r\n",
        "@app.route('/classify', methods=['POST', 'GET'])\r\n",
        "def classify():\r\n",
        "    queries = request.args.getlist('q')\r\n",
        "    outputs = classifier(queries)\r\n",
        "\r\n",
        "    results = []\r\n",
        "\r\n",
        "    for i, output in enumerate(outputs):\r\n",
        "      label = output['label']\r\n",
        "      score = output['score']\r\n",
        "\r\n",
        "      results.append({\r\n",
        "        'index': i,\r\n",
        "        'text': queries[i],\r\n",
        "        'label': label,\r\n",
        "        'score': score,\r\n",
        "      })\r\n",
        "\r\n",
        "\r\n",
        "    return jsonify(\r\n",
        "      results\r\n",
        "    )\r\n",
        "\r\n",
        "\r\n",
        "app.run()"
      ],
      "outputs": [],
      "metadata": {
        "colab": {
          "background_save": true,
          "base_uri": "https://localhost:8080/"
        },
        "id": "iQCOPZB43tR0",
        "outputId": "99be838c-6763-4be4-d474-4441815c9aa5"
      }
    }
  ],
  "metadata": {
    "colab": {
      "provenance": []
    },
    "kernelspec": {
      "display_name": "Python 3",
      "name": "python3"
    },
    "language_info": {
      "name": "python"
    }
  },
  "nbformat": 4,
  "nbformat_minor": 2
}